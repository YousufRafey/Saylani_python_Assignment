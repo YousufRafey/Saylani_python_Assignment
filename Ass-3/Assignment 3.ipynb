{
 "cells": [
  {
   "cell_type": "markdown",
   "id": "3401ae60-d9bd-4735-8527-795311062058",
   "metadata": {},
   "source": [
    "### Question 1"
   ]
  },
  {
   "cell_type": "code",
   "execution_count": 12,
   "id": "6640d585-6b36-4f00-81bb-ff2cb58272e5",
   "metadata": {},
   "outputs": [
    {
     "name": "stdin",
     "output_type": "stream",
     "text": [
      "Enter a Text yousuf\n"
     ]
    },
    {
     "name": "stdout",
     "output_type": "stream",
     "text": [
      "vowel in your text are3\n",
      "vowels are ouu\n"
     ]
    }
   ],
   "source": [
    "name=input(\"Enter a Text\")\n",
    "text=name.lower()\n",
    "count=0\n",
    "vowels=\"\"\n",
    "for i in text:\n",
    "    if i in [\"a\",\"e\",\"i\",\"o\",\"u\"]:\n",
    "        count+=1\n",
    "        vowels+=i\n",
    "print(f\"vowel in your text are{count}\")\n",
    "print(f\"vowels are {vowels}\")  \n"
   ]
  },
  {
   "cell_type": "markdown",
   "id": "c1b99be8-5bfd-455a-98db-2bf9de4ab51d",
   "metadata": {},
   "source": [
    "### Question 2"
   ]
  },
  {
   "cell_type": "code",
   "execution_count": 16,
   "id": "85f08eef-4038-464e-9a2b-f65a4ce14753",
   "metadata": {},
   "outputs": [
    {
     "name": "stdin",
     "output_type": "stream",
     "text": [
      "Enter a text y O u S 123\n"
     ]
    },
    {
     "name": "stdout",
     "output_type": "stream",
     "text": [
      "upper case letter 2\n",
      "lower case letter 2\n",
      "digits in letter 3\n",
      "spaces in letter 4\n"
     ]
    }
   ],
   "source": [
    "string=input(\"Enter a text\")\n",
    "upper=0\n",
    "lower=0\n",
    "digit=0\n",
    "space=0\n",
    "for char in string:\n",
    "    if char.isupper():\n",
    "        upper+=1\n",
    "    elif char.islower():\n",
    "        lower+=1\n",
    "    elif char.isdigit():\n",
    "        digit+=1\n",
    "    elif char.isspace():\n",
    "        space+=1\n",
    "print(f\"upper case letter {upper}\")\n",
    "print(f\"lower case letter {lower}\")\n",
    "print(f\"digits in letter {digit}\")\n",
    "print(f\"spaces in letter {space}\")\n",
    "\n"
   ]
  },
  {
   "cell_type": "markdown",
   "id": "6dd65942-a0f2-4dff-b3a2-72445f4f3a99",
   "metadata": {},
   "source": [
    "### Question 3"
   ]
  },
  {
   "cell_type": "code",
   "execution_count": 26,
   "id": "94c3a5bf-65a0-49f6-85cf-4785dfca240a",
   "metadata": {},
   "outputs": [
    {
     "name": "stdin",
     "output_type": "stream",
     "text": [
      "Enter your name Yousuf\n"
     ]
    },
    {
     "name": "stdout",
     "output_type": "stream",
     "text": [
      "fousuY\n"
     ]
    }
   ],
   "source": [
    "name=input(\"Enter your name\")\n",
    "swapping=name[-1]+name[1:-1]+name[0]\n",
    "print(swapping)"
   ]
  },
  {
   "cell_type": "markdown",
   "id": "110167c4-1284-45fa-b54e-f6be531b9a55",
   "metadata": {},
   "source": [
    "### Question 4"
   ]
  },
  {
   "cell_type": "code",
   "execution_count": 20,
   "id": "e4b1d0ae-8b77-449b-9773-eb1ea50438c6",
   "metadata": {},
   "outputs": [
    {
     "name": "stdin",
     "output_type": "stream",
     "text": [
      "Enter a name for reversing Yousuf\n"
     ]
    },
    {
     "name": "stdout",
     "output_type": "stream",
     "text": [
      "fusuoY\n"
     ]
    }
   ],
   "source": [
    "name=input(\"Enter a name for reversing\")\n",
    "new_string=name[::-1]\n",
    "print(new_string)"
   ]
  },
  {
   "cell_type": "markdown",
   "id": "a1411749-f31a-4826-b620-29222ddc7622",
   "metadata": {},
   "source": [
    "### Question 5"
   ]
  },
  {
   "cell_type": "code",
   "execution_count": 24,
   "id": "622f6fdc-2193-4544-b5c8-25d725b07842",
   "metadata": {},
   "outputs": [
    {
     "name": "stdin",
     "output_type": "stream",
     "text": [
      "Enter  text you want to swapping my name is yousuf\n"
     ]
    },
    {
     "name": "stdout",
     "output_type": "stream",
     "text": [
      "y name is yousufm\n"
     ]
    }
   ],
   "source": [
    "text=input(\"Enter  text you want to swapping\")\n",
    "new_string=text[1:]+text[0]\n",
    "print(new_string)"
   ]
  },
  {
   "cell_type": "markdown",
   "id": "98ae351e-5d3d-4be3-b228-456520b9748e",
   "metadata": {},
   "source": [
    "### Question 6"
   ]
  },
  {
   "cell_type": "code",
   "execution_count": 28,
   "id": "af6336c3-6d34-4461-ac0a-4b3c22381131",
   "metadata": {},
   "outputs": [
    {
     "name": "stdin",
     "output_type": "stream",
     "text": [
      "Enter full name:  syed mohammed yousuf\n"
     ]
    },
    {
     "name": "stdout",
     "output_type": "stream",
     "text": [
      "s.m.y.\n"
     ]
    }
   ],
   "source": [
    "name = input(\"Enter full name: \")\n",
    "print(name[0] + \".\" + name[name.find(\" \")+1] + \".\" + name[name.rfind(\" \")+1] + \".\")\n"
   ]
  },
  {
   "cell_type": "code",
   "execution_count": 31,
   "id": "af0bc16d-c1e7-4e48-a682-cf864b4a0ed6",
   "metadata": {},
   "outputs": [
    {
     "name": "stdin",
     "output_type": "stream",
     "text": [
      "Enter a text for checking string is palindrome or not madam\n"
     ]
    },
    {
     "name": "stdout",
     "output_type": "stream",
     "text": [
      "String is palindrome\n"
     ]
    }
   ],
   "source": [
    "text=input(\"Enter a text for checking string is palindrome or not\")\n",
    "if text==text[::-1]:\n",
    "    print(\"String is palindrome\")\n",
    "else:\n",
    "    print(\"String is not palindrome\")"
   ]
  },
  {
   "cell_type": "markdown",
   "id": "ecce01ef-e0b6-4eeb-8b78-9656d3b1ad92",
   "metadata": {},
   "source": [
    "### Question 7"
   ]
  },
  {
   "cell_type": "code",
   "execution_count": 32,
   "id": "ec84e5a2-3c26-4a55-b1d5-1aad895abd85",
   "metadata": {},
   "outputs": [
    {
     "name": "stdin",
     "output_type": "stream",
     "text": [
      "Enter a string:  yousuf\n"
     ]
    },
    {
     "name": "stdout",
     "output_type": "stream",
     "text": [
      "yousuf\n",
      "ousufy\n",
      "usufyo\n",
      "sufyou\n",
      "ufyous\n",
      "fyousu\n",
      "yousuf\n"
     ]
    }
   ],
   "source": [
    "text = input(\"Enter a string: \")\n",
    "n = len(text)\n",
    "for i in range(n):\n",
    "    print(text[i:] + text[:i])\n",
    "print(text)\n"
   ]
  },
  {
   "cell_type": "markdown",
   "id": "376b7469-18db-4c61-a244-46464869db96",
   "metadata": {},
   "source": [
    "### Question 8"
   ]
  },
  {
   "cell_type": "code",
   "execution_count": 37,
   "id": "86f5f657-d422-4c31-b2d4-63e27f83cf35",
   "metadata": {},
   "outputs": [
    {
     "name": "stdin",
     "output_type": "stream",
     "text": [
      "Enter a Password for Authenticating:  yuso\n"
     ]
    },
    {
     "name": "stdout",
     "output_type": "stream",
     "text": [
      "Password is not valid for authentication\n"
     ]
    }
   ],
   "source": [
    "password = input(\"Enter a Password for Authenticating: \")\n",
    "if (len(password) > 8 and \n",
    "    any(c.isupper() for c in password) and\n",
    "    any(c.islower() for c in password) and\n",
    "    any(c.isdigit() for c in password)):\n",
    "    print(\"Password is valid for authentication\")\n",
    "else:\n",
    "    print(\"Password is not valid for authentication\")\n"
   ]
  },
  {
   "cell_type": "code",
   "execution_count": null,
   "id": "9ca4ffa1-0506-49fc-9fb5-915567126089",
   "metadata": {},
   "outputs": [],
   "source": []
  }
 ],
 "metadata": {
  "kernelspec": {
   "display_name": "Python 3 (ipykernel)",
   "language": "python",
   "name": "python3"
  },
  "language_info": {
   "codemirror_mode": {
    "name": "ipython",
    "version": 3
   },
   "file_extension": ".py",
   "mimetype": "text/x-python",
   "name": "python",
   "nbconvert_exporter": "python",
   "pygments_lexer": "ipython3",
   "version": "3.13.5"
  }
 },
 "nbformat": 4,
 "nbformat_minor": 5
}
