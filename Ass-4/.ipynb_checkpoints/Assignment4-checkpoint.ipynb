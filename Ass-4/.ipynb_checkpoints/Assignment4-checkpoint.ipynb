{
 "cells": [
  {
   "cell_type": "markdown",
   "id": "03bc5426-028a-40bd-b70d-2edb07db7ae2",
   "metadata": {},
   "source": [
    "### Question 1"
   ]
  },
  {
   "cell_type": "code",
   "execution_count": 2,
   "id": "aeb4a1e6-1af5-4801-8f35-1d384cd40bf9",
   "metadata": {},
   "outputs": [
    {
     "name": "stdin",
     "output_type": "stream",
     "text": [
      "Enter list elements separated by space:  10 20 30 40 50\n"
     ]
    },
    {
     "name": "stdout",
     "output_type": "stream",
     "text": [
      "['10', '30', '50']\n"
     ]
    }
   ],
   "source": [
    "my_list = input(\"Enter list elements separated by space: \").split()\n",
    "print(my_list[::2])"
   ]
  },
  {
   "cell_type": "markdown",
   "id": "c5e0f485-301f-459d-a348-8db84c088a61",
   "metadata": {},
   "source": [
    "### Question 2"
   ]
  },
  {
   "cell_type": "code",
   "execution_count": 7,
   "id": "51ff4445-fbe4-472c-8c63-0203691a8a05",
   "metadata": {},
   "outputs": [
    {
     "name": "stdin",
     "output_type": "stream",
     "text": [
      "Enter some text bro my name is Yousuf\n"
     ]
    },
    {
     "name": "stdout",
     "output_type": "stream",
     "text": [
      "Reversed List is ['Yousuf', 'is', 'name', 'my']\n"
     ]
    }
   ],
   "source": [
    "my_list=input(\"Enter some text bro\").split()\n",
    "print(f\"Reversed List is {my_list[::-1]}\")"
   ]
  },
  {
   "cell_type": "markdown",
   "id": "eead231c-9e27-45e1-ba43-a892fe7ba1de",
   "metadata": {},
   "source": [
    "### Question 3"
   ]
  },
  {
   "cell_type": "code",
   "execution_count": 12,
   "id": "17ded0df-a5c3-4b7c-a8ac-0177e2c0ce9a",
   "metadata": {},
   "outputs": [
    {
     "name": "stdin",
     "output_type": "stream",
     "text": [
      "Enter numbers in list 10 333 50 67\n"
     ]
    },
    {
     "name": "stdout",
     "output_type": "stream",
     "text": [
      "The Maximum number is 67\n"
     ]
    }
   ],
   "source": [
    "numbers=input(\"Enter numbers in list\").split()\n",
    "max=numbers[0]\n",
    "min=numbers[0]\n",
    "for i in range (len(numbers)):\n",
    "    if numbers[i]>max:\n",
    "        max=numbers[i]\n",
    "print(f\"The Maximum number is {max}\")"
   ]
  },
  {
   "cell_type": "markdown",
   "id": "7e380149-ece3-4dd4-876b-125c298aa03b",
   "metadata": {},
   "source": [
    "### Question 4"
   ]
  },
  {
   "cell_type": "code",
   "execution_count": 13,
   "id": "9255eab1-db21-46e6-928b-1dae599f7497",
   "metadata": {},
   "outputs": [
    {
     "name": "stdout",
     "output_type": "stream",
     "text": [
      "[50, 10, 20, 30, 40]\n"
     ]
    }
   ],
   "source": [
    "numbers = [10, 20, 30, 40, 50]\n",
    "numbers = numbers[-1:] + numbers[:-1]\n",
    "print(numbers)\n"
   ]
  },
  {
   "cell_type": "markdown",
   "id": "8cb86230-0c69-47bc-8ef9-1159b20de507",
   "metadata": {},
   "source": [
    "### Question 5"
   ]
  },
  {
   "cell_type": "code",
   "execution_count": 14,
   "id": "2a65f5eb-f300-41e2-9e07-3a36c7d488bd",
   "metadata": {},
   "outputs": [
    {
     "name": "stdin",
     "output_type": "stream",
     "text": [
      "Enter a string:  yousuf\n",
      "Enter the word to delete:  uf\n"
     ]
    },
    {
     "name": "stdout",
     "output_type": "stream",
     "text": [
      "String after deletion is yous\n"
     ]
    }
   ],
   "source": [
    "text = input(\"Enter a string: \")\n",
    "word = input(\"Enter the word to delete: \")\n",
    "new_text = text.replace(word, \"\")\n",
    "print(f\"String after deletion is {new_text}\")"
   ]
  },
  {
   "cell_type": "markdown",
   "id": "7ea30d8f-02a8-4e9d-87f4-d390be5f4205",
   "metadata": {},
   "source": [
    "### Question 6"
   ]
  },
  {
   "cell_type": "code",
   "execution_count": 17,
   "id": "b35ee88c-cd92-4e12-81db-e3d9e9fa3d22",
   "metadata": {},
   "outputs": [
    {
     "name": "stdin",
     "output_type": "stream",
     "text": [
      "Enter a date (mm/dd/yyyy):  10/22/2004\n"
     ]
    },
    {
     "name": "stdout",
     "output_type": "stream",
     "text": [
      "October 22, 2004\n"
     ]
    }
   ],
   "source": [
    "# List of months (index 0 = January, index 1 = February, ...)\n",
    "months = [\"January\", \"February\", \"March\", \"April\", \"May\", \"June\",\n",
    "          \"July\", \"August\", \"September\", \"October\", \"November\", \"December\"]\n",
    "date = input(\"Enter a date (mm/dd/yyyy): \")\n",
    "mm, dd, yyyy = date.split(\"/\")\n",
    "month_name = months[int(mm) - 1]\n",
    "print(f\"{month_name} {int(dd)}, {yyyy}\")\n"
   ]
  },
  {
   "cell_type": "markdown",
   "id": "95a69886-f0b7-4207-bd51-1013a65f5508",
   "metadata": {},
   "source": [
    "### Question 7"
   ]
  },
  {
   "cell_type": "code",
   "execution_count": 18,
   "id": "a10b6266-2631-4436-a200-2b64fa3fc278",
   "metadata": {},
   "outputs": [
    {
     "name": "stdin",
     "output_type": "stream",
     "text": [
      "Enter a sentence:   han bhai kia hal hay\n"
     ]
    },
    {
     "name": "stdout",
     "output_type": "stream",
     "text": [
      "Han Bhai Kia Hal Hay\n"
     ]
    }
   ],
   "source": [
    "sentence = input(\"Enter a sentence: \")\n",
    "words = sentence.split()\n",
    "for i in range(len(words)):\n",
    "    words[i] = words[i].capitalize()\n",
    "new_sentence = \" \".join(words)\n",
    "print(new_sentence)\n"
   ]
  },
  {
   "cell_type": "markdown",
   "id": "f5e4f6c0-02a1-4562-b68a-e0d643a92d5c",
   "metadata": {},
   "source": [
    "### Question 8"
   ]
  },
  {
   "cell_type": "code",
   "execution_count": 19,
   "id": "a17d9fa0-4ee9-4bdb-8c6f-262245239a61",
   "metadata": {},
   "outputs": [
    {
     "name": "stdout",
     "output_type": "stream",
     "text": [
      "2 11 7 20\n",
      "5 2 9 16\n",
      "8 3 10 21\n"
     ]
    }
   ],
   "source": [
    "matrix = [\n",
    "    [2, 11, 7],\n",
    "    [5, 2, 9],\n",
    "    [8, 3, 10]\n",
    "]\n",
    "\n",
    "for row in matrix:\n",
    "    total = 0\n",
    "    for value in row:\n",
    "        total += value\n",
    "        print(value, end=\" \")   \n",
    "    print(total)                \n"
   ]
  },
  {
   "cell_type": "markdown",
   "id": "56ac9e6c-fa5d-488f-88e4-24cc28799adf",
   "metadata": {},
   "source": [
    "### Question 9"
   ]
  },
  {
   "cell_type": "code",
   "execution_count": 20,
   "id": "28861780-8171-43cf-b7e2-1b598423793d",
   "metadata": {},
   "outputs": [
    {
     "name": "stdin",
     "output_type": "stream",
     "text": [
      "Enter number of rows (n):  15\n",
      "Enter number of columns (m):  13\n"
     ]
    },
    {
     "name": "stdout",
     "output_type": "stream",
     "text": [
      "Enter elements of first matrix:\n"
     ]
    },
    {
     "name": "stdin",
     "output_type": "stream",
     "text": [
      " 2\n",
      " 3\n",
      " 4\n",
      " 5\n",
      " 6\n",
      " 7\n",
      " 8\n",
      " 9\n",
      " 6\n",
      " 5\n",
      " 4\n",
      " 2\n",
      " 4\n",
      " 5\n",
      " 6\n"
     ]
    },
    {
     "name": "stdout",
     "output_type": "stream",
     "text": [
      "Enter elements of second matrix:\n"
     ]
    },
    {
     "name": "stdin",
     "output_type": "stream",
     "text": [
      " 1\n",
      " 2\n",
      " 3\n",
      " 4\n",
      " 5\n",
      " 6\n",
      " 7\n",
      " 8\n",
      " 9\n",
      " 0\n",
      " 9\n",
      " 8\n",
      " 7\n",
      " 6\n",
      " 6\n"
     ]
    },
    {
     "ename": "IndexError",
     "evalue": "list index out of range",
     "output_type": "error",
     "traceback": [
      "\u001b[1;31m---------------------------------------------------------------------------\u001b[0m",
      "\u001b[1;31mIndexError\u001b[0m                                Traceback (most recent call last)",
      "Cell \u001b[1;32mIn[20], line 20\u001b[0m\n\u001b[0;32m     18\u001b[0m     row \u001b[38;5;241m=\u001b[39m []\n\u001b[0;32m     19\u001b[0m     \u001b[38;5;28;01mfor\u001b[39;00m j \u001b[38;5;129;01min\u001b[39;00m \u001b[38;5;28mrange\u001b[39m(m):\n\u001b[1;32m---> 20\u001b[0m         row\u001b[38;5;241m.\u001b[39mappend(A[i][j] \u001b[38;5;241m+\u001b[39m B[i][j])\n\u001b[0;32m     21\u001b[0m     C\u001b[38;5;241m.\u001b[39mappend(row)\n\u001b[0;32m     23\u001b[0m \u001b[38;5;28mprint\u001b[39m(\u001b[38;5;124m\"\u001b[39m\u001b[38;5;124mResultant Matrix after Addition:\u001b[39m\u001b[38;5;124m\"\u001b[39m)\n",
      "\u001b[1;31mIndexError\u001b[0m: list index out of range"
     ]
    }
   ],
   "source": [
    "n = int(input(\"Enter number of rows (n): \"))\n",
    "m = int(input(\"Enter number of columns (m): \"))\n",
    "\n",
    "print(\"Enter elements of first matrix:\")\n",
    "A = []\n",
    "for i in range(n):\n",
    "    row = list(map(int, input().split()))\n",
    "    A.append(row)\n",
    "\n",
    "print(\"Enter elements of second matrix:\")\n",
    "B = []\n",
    "for i in range(n):\n",
    "    row = list(map(int, input().split()))\n",
    "    B.append(row)\n",
    "\n",
    "C = []\n",
    "for i in range(n):\n",
    "    row = []\n",
    "    for j in range(m):\n",
    "        row.append(A[i][j] + B[i][j])\n",
    "    C.append(row)\n",
    "\n",
    "print(\"Resultant Matrix after Addition:\")\n",
    "for row in C:\n",
    "    print(*row)\n"
   ]
  },
  {
   "cell_type": "markdown",
   "id": "36a49ef9-a578-4cbc-9a1f-ed1aaa00f280",
   "metadata": {},
   "source": [
    "### Question 10"
   ]
  },
  {
   "cell_type": "code",
   "execution_count": 21,
   "id": "92241156-a203-4b4b-9d94-adde71f13329",
   "metadata": {},
   "outputs": [
    {
     "name": "stdout",
     "output_type": "stream",
     "text": [
      "Resultant Matrix:\n",
      "58 64\n",
      "139 154\n"
     ]
    }
   ],
   "source": [
    "A = [\n",
    "    [1, 2, 3],\n",
    "    [4, 5, 6]\n",
    "]\n",
    "\n",
    "B = [\n",
    "    [7, 8],\n",
    "    [9, 10],\n",
    "    [11, 12]\n",
    "]\n",
    "\n",
    "result = [[0, 0],\n",
    "          [0, 0]]\n",
    "\n",
    "for i in range(len(A)):\n",
    "    for j in range(len(B[0])):\n",
    "        for k in range(len(B)):\n",
    "            result[i][j] += A[i][k] * B[k][j]\n",
    "\n",
    "print(\"Resultant Matrix:\")\n",
    "for row in result:\n",
    "    print(*row)\n"
   ]
  },
  {
   "cell_type": "code",
   "execution_count": null,
   "id": "708bba0e-375f-409a-a160-06dcf6d48f0c",
   "metadata": {},
   "outputs": [],
   "source": []
  }
 ],
 "metadata": {
  "kernelspec": {
   "display_name": "Python 3 (ipykernel)",
   "language": "python",
   "name": "python3"
  },
  "language_info": {
   "codemirror_mode": {
    "name": "ipython",
    "version": 3
   },
   "file_extension": ".py",
   "mimetype": "text/x-python",
   "name": "python",
   "nbconvert_exporter": "python",
   "pygments_lexer": "ipython3",
   "version": "3.13.5"
  }
 },
 "nbformat": 4,
 "nbformat_minor": 5
}
