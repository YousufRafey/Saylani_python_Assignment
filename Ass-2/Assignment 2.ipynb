{
 "cells": [
  {
   "cell_type": "markdown",
   "id": "dab17a8f-8d04-48fa-8683-02ca7ad215fc",
   "metadata": {},
   "source": [
    "# Assignment 1 have same question of assignment 2 so i submit assignment 1 file because every qquestion of assignment 2 is in assignment 1"
   ]
  },
  {
   "cell_type": "markdown",
   "id": "f90f73aa-db94-49d0-b572-c26b64043dfb",
   "metadata": {},
   "source": [
    "### Question 1:\n",
    "- Part 1"
   ]
  },
  {
   "cell_type": "code",
   "execution_count": 3,
   "id": "6e46b981-784e-4cda-98c7-0b504a8fa058",
   "metadata": {},
   "outputs": [
    {
     "name": "stdout",
     "output_type": "stream",
     "text": [
      "Name :\t\tS.M Yousuf Rafey\n",
      "Father Name :\tS.M Rafey Shafi\n",
      "D O B :\t\t22-Oct-2004\n"
     ]
    }
   ],
   "source": [
    "My_name=\"S.M Yousuf Rafey\"\n",
    "Father_name=\"S.M Rafey Shafi\"\n",
    "D_O_B=\"22-Oct-2004\"\n",
    "print(\"Name :\\t\\t\" + My_name +\"\\nFather Name :\\t\" + Father_name + \"\\nD O B :\\t\\t\" + D_O_B)"
   ]
  },
  {
   "cell_type": "markdown",
   "id": "dd12c25a-42b5-45ab-a8ea-8ea10807c3d3",
   "metadata": {},
   "source": [
    "### Question 2:"
   ]
  },
  {
   "cell_type": "code",
   "execution_count": 4,
   "id": "63dab2ef-c213-4877-adb5-9661058b8db6",
   "metadata": {},
   "outputs": [
    {
     "name": "stdout",
     "output_type": "stream",
     "text": [
      "Asalam o Aliakum ! My name is Yousuf Iam Doing BSSE From Mohammad Ali Jinnah University\n",
      " and currently doing Cloud Data Engineering Course from Saylani. My Trainer in Saylani is Sir Qasim Hassan \n",
      " who is teaching this course with his heart and soul\n"
     ]
    }
   ],
   "source": [
    "BioData='''Asalam o Aliakum ! My name is Yousuf Iam Doing BSSE From Mohammad Ali Jinnah University\n",
    " and currently doing Cloud Data Engineering Course from Saylani. My Trainer in Saylani is Sir Qasim Hassan \n",
    " who is teaching this course with his heart and soul'''\n",
    "print(BioData)"
   ]
  },
  {
   "cell_type": "markdown",
   "id": "ac4cf686-64cc-4dc6-96cb-26939d2f8d35",
   "metadata": {},
   "source": [
    "### Question 3:"
   ]
  },
  {
   "cell_type": "code",
   "execution_count": 7,
   "id": "901820c1-5d1c-42d1-af94-e9a4fdaadb64",
   "metadata": {},
   "outputs": [
    {
     "name": "stdout",
     "output_type": "stream",
     "text": [
      "160\n",
      "40\n",
      "160\n",
      "1.6666666666666667\n",
      "1\n",
      "160\n"
     ]
    }
   ],
   "source": [
    "x=100\n",
    "y=60\n",
    "print(x+y)\n",
    "print(x-y)\n",
    "print(x+y)\n",
    "print(x/y)\n",
    "print(x//y)\n",
    "print(x++y)"
   ]
  },
  {
   "cell_type": "markdown",
   "id": "7dd1264b-c19b-4d51-85e2-4e73ebe97b31",
   "metadata": {},
   "source": [
    "### Question 4:"
   ]
  },
  {
   "cell_type": "code",
   "execution_count": 9,
   "id": "b19e871d-2d00-42c1-a059-ecc522308a6f",
   "metadata": {},
   "outputs": [
    {
     "name": "stdout",
     "output_type": "stream",
     "text": [
      "Total Marks is : 300\n",
      "Obtained Marks is :277\n",
      "Percentage is : 92.33333333333333\n"
     ]
    }
   ],
   "source": [
    "English=85\n",
    "Islamiat=92\n",
    "Maths=100\n",
    "total_marks=300\n",
    "obtained_marks=English+Islamiat+Maths\n",
    "percentage=(obtained_marks/total_marks)*100\n",
    "print(f\"Total Marks is : {total_marks}\")\n",
    "print(f\"Obtained Marks is :{obtained_marks}\")\n",
    "print(f\"Percentage is : {percentage}\")\n"
   ]
  },
  {
   "cell_type": "markdown",
   "id": "4c8c5ebf-239a-477d-b011-8315bd9e9a34",
   "metadata": {},
   "source": [
    "### Question 1:\n",
    "- Part 2:"
   ]
  },
  {
   "cell_type": "code",
   "execution_count": 6,
   "id": "24ce6a17-0eec-4db3-ad28-78d6211b8c66",
   "metadata": {},
   "outputs": [
    {
     "name": "stdin",
     "output_type": "stream",
     "text": [
      "Enter your years of work 6\n",
      "Enter your Salary 78000\n"
     ]
    },
    {
     "name": "stdout",
     "output_type": "stream",
     "text": [
      "Your year of working is : 6.0\n",
      "Your bonus of experience is : 81900.0\n"
     ]
    }
   ],
   "source": [
    "years=float(input(\"Enter your years of work\"))\n",
    "salary=float(input(\"Enter your Salary\"))\n",
    "if years>5:\n",
    "    bonus=salary*0.05\n",
    "    total_salary=bonus+salary\n",
    "    print(f\"Your year of working is : {years}\")\n",
    "    print(f\"Your bonus of experience is : {total_salary}\")\n",
    "else:\n",
    "    print(f\"Your Salary is : {salary}\")\n",
    "    print(f\"Your year of working is : {years}\")\n",
    "    "
   ]
  },
  {
   "cell_type": "markdown",
   "id": "8ed3c979-741d-45a6-a13e-f54777d16b89",
   "metadata": {},
   "source": [
    "### Question 2:"
   ]
  },
  {
   "cell_type": "code",
   "execution_count": 8,
   "id": "24d2e372-c0f8-4eb4-9348-5f690b7a65c9",
   "metadata": {},
   "outputs": [
    {
     "name": "stdin",
     "output_type": "stream",
     "text": [
      "Enter your age 15\n"
     ]
    },
    {
     "name": "stdout",
     "output_type": "stream",
     "text": [
      "You are nor Eligible to vote\n"
     ]
    }
   ],
   "source": [
    "age=int(input(\"Enter your age\"))\n",
    "if age>17:\n",
    "    print(f\"You are Eligible to vote\")\n",
    "else:\n",
    "    print(f\"You are not Eligible to vote\")"
   ]
  },
  {
   "cell_type": "markdown",
   "id": "e5692990-a586-47c7-9e11-84b156d61791",
   "metadata": {},
   "source": [
    "## Question 3:"
   ]
  },
  {
   "cell_type": "code",
   "execution_count": 3,
   "id": "5ed60bfb-db9e-4b49-8ede-ad30575c27f3",
   "metadata": {},
   "outputs": [
    {
     "name": "stdin",
     "output_type": "stream",
     "text": [
      "Enter a Number for checking that us even or odd 16\n"
     ]
    },
    {
     "name": "stdout",
     "output_type": "stream",
     "text": [
      "The Number 16 is Even\n"
     ]
    }
   ],
   "source": [
    "num=int(input(\"Enter a Number for checking that us even or odd\"))\n",
    "if num%2==0:\n",
    "    print(f\"The Number {num} is Even\")\n",
    "else:\n",
    "    print(f\"The Number {num} is Odd\")"
   ]
  },
  {
   "cell_type": "markdown",
   "id": "0c144022-3ea1-4230-a73d-5fb037d9f12c",
   "metadata": {},
   "source": [
    "## Question 4:"
   ]
  },
  {
   "cell_type": "code",
   "execution_count": 5,
   "id": "fb71ccc4-8448-4c2f-8e43-ff9f318ac87c",
   "metadata": {},
   "outputs": [
    {
     "name": "stdin",
     "output_type": "stream",
     "text": [
      "Enter a Number for checking that the number is divisible by 7 or not 6\n"
     ]
    },
    {
     "name": "stdout",
     "output_type": "stream",
     "text": [
      "The Number 6 is not divisible by 7\n"
     ]
    }
   ],
   "source": [
    "num=int(input(\"Enter a Number for checking that the number is divisible by 7 or not\"))\n",
    "if num%7==0:\n",
    "    print(f\"The Number {num} is divisible by 7\")\n",
    "else:\n",
    "    print(f\"The Number {num} is not divisible by 7\")"
   ]
  },
  {
   "cell_type": "markdown",
   "id": "e837b848-f1d5-476a-9350-cb62beb87bd4",
   "metadata": {},
   "source": [
    "## Question 5:"
   ]
  },
  {
   "cell_type": "code",
   "execution_count": 7,
   "id": "3b129bcf-bb80-46e8-b269-85022166d5b8",
   "metadata": {},
   "outputs": [
    {
     "name": "stdin",
     "output_type": "stream",
     "text": [
      "Enter a Number 7\n"
     ]
    },
    {
     "name": "stdout",
     "output_type": "stream",
     "text": [
      "Bye\n"
     ]
    }
   ],
   "source": [
    "num=int(input(\"Enter a Number\"))\n",
    "if num%5==0:\n",
    "    print(f\"Hello\")\n",
    "else:\n",
    "    print(f\"Bye\")"
   ]
  },
  {
   "cell_type": "markdown",
   "id": "0bc55b80-542a-4308-a29b-80848dca31bf",
   "metadata": {},
   "source": [
    "## Question 6:"
   ]
  },
  {
   "cell_type": "code",
   "execution_count": 9,
   "id": "0bf01109-739c-4c28-9975-e29e656a712d",
   "metadata": {},
   "outputs": [
    {
     "name": "stdin",
     "output_type": "stream",
     "text": [
      "Enter a number 24\n"
     ]
    },
    {
     "name": "stdout",
     "output_type": "stream",
     "text": [
      "The Last digit of a number : 24 is 4\n"
     ]
    }
   ],
   "source": [
    "num=int(input(\"Enter a number\"))\n",
    "last_digit=num%10\n",
    "print(f\"The Last digit of a number : {num} is {last_digit}\")"
   ]
  },
  {
   "cell_type": "markdown",
   "id": "9da8ca24-e4fe-445d-b66d-3bcb26ef7dba",
   "metadata": {},
   "source": [
    "## Question 7:"
   ]
  },
  {
   "cell_type": "code",
   "execution_count": 11,
   "id": "f275b6fa-5b11-4b49-be9d-dbba7b85af2f",
   "metadata": {},
   "outputs": [
    {
     "name": "stdin",
     "output_type": "stream",
     "text": [
      "Enter a Length 5\n",
      "Enter breadth 7\n"
     ]
    },
    {
     "name": "stdout",
     "output_type": "stream",
     "text": [
      "It's a Rectangle\n"
     ]
    }
   ],
   "source": [
    "length=int(input(\"Enter a Length\"))\n",
    "breadth=int(input(\"Enter breadth\"))\n",
    "if length==breadth:\n",
    "    print(f\"It's a Square\")\n",
    "else:\n",
    "    print(f\"It's a Rectangle\")"
   ]
  },
  {
   "cell_type": "markdown",
   "id": "88c4c4f9-354a-42a9-afe4-0bb7b85a7e4a",
   "metadata": {},
   "source": [
    "## Question 8:"
   ]
  },
  {
   "cell_type": "code",
   "execution_count": 14,
   "id": "8e21e390-f710-4406-a670-37092ff4e09e",
   "metadata": {},
   "outputs": [
    {
     "name": "stdin",
     "output_type": "stream",
     "text": [
      "Enter a number 1 2\n",
      "Enter a number 2 78\n"
     ]
    },
    {
     "name": "stdout",
     "output_type": "stream",
     "text": [
      "Number :78 is greater than Number : 2\n"
     ]
    }
   ],
   "source": [
    "num1=int(input(\"Enter a number 1\"))\n",
    "num2=int(input(\"Enter a number 2\"))\n",
    "if num1>num2:\n",
    "    print(f\"Number : {num1} is greater than Number : {num2}\")\n",
    "else:\n",
    "    print(f\"Number : {num2} is greater than Number : {num1}\")"
   ]
  },
  {
   "cell_type": "markdown",
   "id": "dd4c9203-8171-4f55-94ed-c4c1fa3c4a95",
   "metadata": {},
   "source": [
    "## Question 9:\n"
   ]
  },
  {
   "cell_type": "code",
   "execution_count": 16,
   "id": "8ae76d97-c887-4782-a712-6662cd2ea013",
   "metadata": {},
   "outputs": [
    {
     "name": "stdin",
     "output_type": "stream",
     "text": [
      "Enter a Quantity of a item you want to buy 20\n"
     ]
    },
    {
     "name": "stdout",
     "output_type": "stream",
     "text": [
      "The total cost after buying 20 items is : 1800.0\n"
     ]
    }
   ],
   "source": [
    "quantity=int(input(\"Enter a Quantity of a item you want to buy\"))\n",
    "unit_price=100\n",
    "total_price=quantity*unit_price\n",
    "if total_price>1000:\n",
    "    discount=total_price*0.10\n",
    "    total_price=total_price-discount\n",
    "print(f\"The total cost after buying {quantity} items is : {total_price}\")"
   ]
  },
  {
   "cell_type": "markdown",
   "id": "5fdca7fb-7f93-423e-976d-acf48eabf270",
   "metadata": {},
   "source": [
    "## Question 10:\n"
   ]
  },
  {
   "cell_type": "code",
   "execution_count": 20,
   "id": "e0b4609d-1abe-4da9-9e4c-7a49b168a1aa",
   "metadata": {},
   "outputs": [
    {
     "name": "stdin",
     "output_type": "stream",
     "text": [
      "Enter a Marks 101\n"
     ]
    },
    {
     "name": "stdout",
     "output_type": "stream",
     "text": [
      "Invalid Numbers\n"
     ]
    }
   ],
   "source": [
    "marks=int(input(\"Enter a Marks\"))\n",
    "if marks>80 and marks<=100:\n",
    "    print(f\"You Got A Grade\")\n",
    "elif marks>60 and marks<=80:\n",
    "    print(f\"You Got B Grade\")\n",
    "elif marks>50 and marks<=60:\n",
    "    print(f\"You Got C Grade\")\n",
    "elif marks>45 and marks<=50:\n",
    "    print(f\"You Got D Grade\")\n",
    "elif marks>25 and marks<=45:\n",
    "    print(f\"You got E Grade\")\n",
    "elif marks<25:\n",
    "    print(f\"You Got F Grade\")\n",
    "else:\n",
    "    print(f\"Invalid Numbers\")"
   ]
  },
  {
   "cell_type": "markdown",
   "id": "5038b73e-2ee6-416f-abce-352c36d5190d",
   "metadata": {},
   "source": [
    "## Question 11:\n"
   ]
  },
  {
   "cell_type": "code",
   "execution_count": 24,
   "id": "47835a32-f944-419a-ac01-d197ec9daccd",
   "metadata": {},
   "outputs": [
    {
     "name": "stdin",
     "output_type": "stream",
     "text": [
      "Enter a number of classes Held 20\n",
      "Enter a number of classes attendend 9\n"
     ]
    },
    {
     "name": "stdout",
     "output_type": "stream",
     "text": [
      "45.0 you are not available to sit in exam\n"
     ]
    }
   ],
   "source": [
    "class_held=int(input(\"Enter a number of classes Held\"))\n",
    "class_attended=int(input(\"Enter a number of classes attendend\"))\n",
    "attendence_percentage=(class_attended/class_held)*100\n",
    "if attendence_percentage>75:\n",
    "    print(f\"{attendence_percentage} you are available to sit in exam\")\n",
    "else:\n",
    "    print(f\"{attendence_percentage} you are not available to sit in exam\")"
   ]
  },
  {
   "cell_type": "markdown",
   "id": "f904fc6c-30c6-40c4-acd2-68320c6aa6ed",
   "metadata": {},
   "source": [
    "## Question 12:\n",
    "- Modify the above question to allow student to sit if he/she has medical cause. Ask user if he/she has medical cause or not ( 'Y' or 'N' ) and print accordingly."
   ]
  },
  {
   "cell_type": "code",
   "execution_count": 30,
   "id": "939b849e-48b2-4d98-bdf5-8863b4a4f827",
   "metadata": {},
   "outputs": [
    {
     "name": "stdin",
     "output_type": "stream",
     "text": [
      "DO you Have any Medical isses ans this with only 'Y' or 'N' Y\n"
     ]
    },
    {
     "name": "stdout",
     "output_type": "stream",
     "text": [
      "Y ! Yes you have an Medical Issue :\n"
     ]
    }
   ],
   "source": [
    "stu_ans=input(\"DO you Have any Medical isses ans this with only 'Y' or 'N'\")\n",
    "if stu_ans==\"Y\":\n",
    "    print(f\"{stu_ans} ! Yes you have an Medical Issue :\")\n",
    "else:\n",
    "    print(f\"{stu_ans} ! No you dont have an Medical Issue :\")"
   ]
  },
  {
   "cell_type": "markdown",
   "id": "f5480ca3-8670-4677-bd3f-a25076070273",
   "metadata": {},
   "source": [
    "## Question 13:"
   ]
  },
  {
   "cell_type": "code",
   "execution_count": 3,
   "id": "4d249cd3-7f70-4478-a3eb-effa939501eb",
   "metadata": {},
   "outputs": [
    {
     "name": "stdin",
     "output_type": "stream",
     "text": [
      "Enter a Year for checking it is Leap year or not 2025\n"
     ]
    },
    {
     "name": "stdout",
     "output_type": "stream",
     "text": [
      "2025 ! It is not a Leap year\n"
     ]
    }
   ],
   "source": [
    "year=int(input(\"Enter a Year for checking it is Leap year or not\"))\n",
    "if (year%4==0 and (year%100!=0) or year%400==0):\n",
    "    print(f\"{year} ! It is a Leap year\")\n",
    "else:\n",
    "    print(f\"{year} ! It is not a Leap year\")"
   ]
  },
  {
   "cell_type": "markdown",
   "id": "9b677050-c95b-4888-acb1-9684c6852e0b",
   "metadata": {},
   "source": [
    "## Question 14:\n"
   ]
  },
  {
   "cell_type": "code",
   "execution_count": 3,
   "id": "ea331e5c-a7f1-4641-b149-3c6241f83c80",
   "metadata": {},
   "outputs": [
    {
     "name": "stdin",
     "output_type": "stream",
     "text": [
      "Enter your age 103\n",
      "Enter Your Gender 'M' or 'F' m\n",
      "Enter your marital status 'Y' or 'N' y\n"
     ]
    },
    {
     "name": "stdout",
     "output_type": "stream",
     "text": [
      "Error ! Invalid age for Male Employee\n"
     ]
    }
   ],
   "source": [
    "age=int(input(\"Enter your age\"))\n",
    "gender=input(\"Enter Your Gender 'M' or 'F'\").upper()\n",
    "marital_status=input(\"Enter your marital status 'Y' or 'N'\").upper()\n",
    "if gender==\"F\":\n",
    "    print(f\"You will work onn Urban Areas\")\n",
    "elif gender==\"M\":\n",
    "    if age>20 and age<40:\n",
    "        print(f\"You Work in any where\")\n",
    "    elif age>40 and age<60:\n",
    "        print(f\"You Work in Urban Areas Only..\")\n",
    "    else:\n",
    "        print(f\"Error ! Invalid age for Male Employee\")\n",
    "else:\n",
    "    print(f\"Error ! Invalid age\")\n"
   ]
  },
  {
   "cell_type": "markdown",
   "id": "069436e4-a6e6-40a4-87be-882a493466e4",
   "metadata": {},
   "source": [
    "## Question 15:\n",
    " -Write a program to calculate the electricity bill (accept number of unit from user) according to the following criteria : Unit Price\n",
    "upt 100 units no charge Next 200 units Rs 5 per unit After 200 units Rs 10 per unit (For example if input unit is 350 than total bill amount is Rs.3500 (For example if input unit is 97 than total bill amount is Rs.0 (For example if input unit is 150 than total bill amount is Rs.750"
   ]
  },
  {
   "cell_type": "code",
   "execution_count": 9,
   "id": "708b1367-1001-48c1-b780-ce176a57d976",
   "metadata": {},
   "outputs": [
    {
     "name": "stdin",
     "output_type": "stream",
     "text": [
      "Enter Units of your Electricity Bill 350\n"
     ]
    },
    {
     "name": "stdout",
     "output_type": "stream",
     "text": [
      "Your Current bill is Rs : 1500\n"
     ]
    }
   ],
   "source": [
    "unit=int(input(\"Enter Units of your Electricity Bill\"))\n",
    "if unit>0 and unit<=100:\n",
    "    bill=0\n",
    "elif unit>100 and unit<=300:\n",
    "    bill=(unit-100)*5\n",
    "elif unit>300:\n",
    "    bill=(200*5)+(unit-300)*10\n",
    "print(f\"Your Current bill is Rs : {bill}\")"
   ]
  },
  {
   "cell_type": "code",
   "execution_count": 5,
   "id": "3a9c708c-6b04-4772-8f3b-1dc1b74904cf",
   "metadata": {},
   "outputs": [
    {
     "name": "stdin",
     "output_type": "stream",
     "text": [
      "Enter age 1: 45\n",
      "Enter age 2: 21\n",
      "Enter age 3: 20\n"
     ]
    },
    {
     "name": "stdout",
     "output_type": "stream",
     "text": [
      "45 is Greater than 21, 20\n"
     ]
    }
   ],
   "source": [
    "age1=int(input(\"Enter age 1:\"))\n",
    "age2=int(input(\"Enter age 2:\"))\n",
    "age3=int(input(\"Enter age 3:\"))\n",
    "if age1>age2:\n",
    "    print(f\"{age1} is Greater than {age2}, {age3}\")\n",
    "elif age2>age1:\n",
    "    print(f\"{age2} is Greater than {age1},{age3}\")\n",
    "elif age3>age2 and age3>age1:\n",
    "    print(f\"{age3} is Greater than {age2},{age1}\")"
   ]
  },
  {
   "cell_type": "markdown",
   "id": "10615a8e-d231-40b2-8002-c2102ee8ed58",
   "metadata": {},
   "source": [
    "## Part 3"
   ]
  },
  {
   "cell_type": "code",
   "execution_count": 1,
   "id": "9c779093-b0f8-4b72-af38-8befaa4ae926",
   "metadata": {},
   "outputs": [
    {
     "name": "stdout",
     "output_type": "stream",
     "text": [
      "Original List: ['Ali', 'Sara', 'Hassan', 'Zara', 'Bilal']\n",
      "After append: ['Ali', 'Sara', 'Hassan', 'Zara', 'Bilal', 'Omar']\n",
      "After insert: ['Ali', 'Sara', 'Kiran', 'Hassan', 'Zara', 'Bilal', 'Omar']\n",
      "After remove: ['Ali', 'Sara', 'Kiran', 'Hassan', 'Zara', 'Omar']\n",
      "After pop: ['Ali', 'Kiran', 'Hassan', 'Zara', 'Omar']\n",
      "After sort: ['Ali', 'Hassan', 'Kiran', 'Omar', 'Zara']\n",
      "After reverse: ['Zara', 'Omar', 'Kiran', 'Hassan', 'Ali']\n",
      "Index of Zara: 0\n",
      "Count of Ali: 2\n",
      "Copied List: ['Zara', 'Omar', 'Kiran', 'Hassan', 'Ali', 'Ali']\n",
      "After extend: ['Zara', 'Omar', 'Kiran', 'Hassan', 'Ali', 'Ali', 'Usman', 'Nida']\n",
      "After clear (copied list): []\n",
      "After del (index 0 removed): ['Omar', 'Kiran', 'Hassan', 'Ali', 'Ali', 'Usman', 'Nida']\n"
     ]
    }
   ],
   "source": [
    "students = [\"Ali\", \"Sara\", \"Hassan\", \"Zara\", \"Bilal\"]\n",
    "\n",
    "print(\"Original List:\", students)\n",
    "\n",
    "students.append(\"Omar\")\n",
    "print(\"After append:\", students)\n",
    "\n",
    "students.insert(2, \"Kiran\")\n",
    "print(\"After insert:\", students)\n",
    "\n",
    "students.remove(\"Bilal\")\n",
    "print(\"After remove:\", students)\n",
    "\n",
    "students.pop(1)\n",
    "print(\"After pop:\", students)\n",
    "\n",
    "students.sort()\n",
    "print(\"After sort:\", students)\n",
    "\n",
    "students.reverse()\n",
    "print(\"After reverse:\", students)\n",
    "\n",
    "print(\"Index of Zara:\", students.index(\"Zara\"))\n",
    "\n",
    "students.append(\"Ali\")\n",
    "print(\"Count of Ali:\", students.count(\"Ali\"))\n",
    "\n",
    "copy_students = students.copy()\n",
    "print(\"Copied List:\", copy_students)\n",
    "\n",
    "students.extend([\"Usman\", \"Nida\"])\n",
    "print(\"After extend:\", students)\n",
    "\n",
    "copy_students.clear()\n",
    "print(\"After clear (copied list):\", copy_students)\n",
    "\n",
    "del students[0]\n",
    "print(\"After del (index 0 removed):\", students)\n"
   ]
  },
  {
   "cell_type": "markdown",
   "id": "3cd3dfe8-85da-45fe-83b5-c4e5e3b543e7",
   "metadata": {},
   "source": [
    "### Question 2"
   ]
  },
  {
   "cell_type": "code",
   "execution_count": 2,
   "id": "4b61be2b-a0d8-45c6-b4f4-c2fd379bb58d",
   "metadata": {},
   "outputs": [
    {
     "name": "stdout",
     "output_type": "stream",
     "text": [
      "Original Tuple: ('Ali', 'Sara', 'Hassan', 'Zara', 'Bilal')\n",
      "First element: Ali\n",
      "Last element: Bilal\n",
      "Slice (1 to 3): ('Sara', 'Hassan', 'Zara')\n",
      "Count of Ali: 1\n",
      "Index of Zara: 3\n",
      "After Concatenation: ('Ali', 'Sara', 'Hassan', 'Zara', 'Bilal', 'Omar', 'Kiran')\n",
      "After Repetition: ('Ali', 'Sara', 'Hassan', 'Zara', 'Bilal', 'Ali', 'Sara', 'Hassan', 'Zara', 'Bilal')\n",
      "Is Sara in tuple? True\n",
      "Is Usman not in tuple? True\n",
      "Student: Ali\n",
      "Student: Sara\n",
      "Student: Hassan\n",
      "Student: Zara\n",
      "Student: Bilal\n",
      "After converting to list and adding Nida: ('Ali', 'Sara', 'Hassan', 'Zara', 'Bilal', 'Nida')\n"
     ]
    }
   ],
   "source": [
    "students = (\"Ali\", \"Sara\", \"Hassan\", \"Zara\", \"Bilal\")\n",
    "\n",
    "print(\"Original Tuple:\", students)\n",
    "\n",
    "print(\"First element:\", students[0])\n",
    "print(\"Last element:\", students[-1])\n",
    "print(\"Slice (1 to 3):\", students[1:4])\n",
    "\n",
    "print(\"Count of Ali:\", students.count(\"Ali\"))\n",
    "print(\"Index of Zara:\", students.index(\"Zara\"))\n",
    "\n",
    "new_tuple = students + (\"Omar\", \"Kiran\")\n",
    "print(\"After Concatenation:\", new_tuple)\n",
    "\n",
    "repeat_tuple = students * 2\n",
    "print(\"After Repetition:\", repeat_tuple)\n",
    "\n",
    "print(\"Is Sara in tuple?\", \"Sara\" in students)\n",
    "print(\"Is Usman not in tuple?\", \"Usman\" not in students)\n",
    "\n",
    "for name in students:\n",
    "    print(\"Student:\", name)\n",
    "\n",
    "list_students = list(students)\n",
    "list_students.append(\"Nida\")\n",
    "students = tuple(list_students)\n",
    "print(\"After converting to list and adding Nida:\", students)\n"
   ]
  },
  {
   "cell_type": "markdown",
   "id": "f82fbc3b-32e5-4de3-a8aa-257cd66518ce",
   "metadata": {},
   "source": [
    "### Question 3"
   ]
  },
  {
   "cell_type": "code",
   "execution_count": 3,
   "id": "6879dfb4-b38f-42e6-bf15-a927ef6a5b3f",
   "metadata": {},
   "outputs": [
    {
     "name": "stdout",
     "output_type": "stream",
     "text": [
      "Original Set: {'Bilal', 'Hassan', 'Sara', 'Zara', 'Ali'}\n",
      "After add: {'Omar', 'Bilal', 'Hassan', 'Sara', 'Zara', 'Ali'}\n",
      "After update: {'Omar', 'Bilal', 'Usman', 'Hassan', 'Nida', 'Sara', 'Zara', 'Ali'}\n",
      "After remove (Ali): {'Omar', 'Bilal', 'Usman', 'Hassan', 'Nida', 'Sara', 'Zara'}\n",
      "After discard (Sara): {'Omar', 'Bilal', 'Usman', 'Hassan', 'Nida', 'Zara'}\n",
      "After pop (random element removed): {'Bilal', 'Usman', 'Hassan', 'Nida', 'Zara'}\n",
      "Copied Set: {'Bilal', 'Usman', 'Hassan', 'Nida', 'Zara'}\n",
      "After clear: set()\n",
      "Union: {'Bilal', 'Hassan', 'Sara', 'Zara', 'Ali'}\n",
      "Intersection: {'Sara'}\n",
      "Difference: {'Hassan', 'Ali'}\n",
      "Symmetric Difference: {'Hassan', 'Zara', 'Ali', 'Bilal'}\n",
      "Is set1 subset of set2? False\n",
      "Is set1 superset of set2? False\n",
      "Are set1 and set2 disjoint? False\n"
     ]
    }
   ],
   "source": [
    "students = {\"Ali\", \"Sara\", \"Hassan\", \"Zara\", \"Bilal\"}\n",
    "\n",
    "print(\"Original Set:\", students)\n",
    "\n",
    "students.add(\"Omar\")\n",
    "print(\"After add:\", students)\n",
    "\n",
    "students.update([\"Nida\", \"Usman\"])\n",
    "print(\"After update:\", students)\n",
    "\n",
    "students.remove(\"Ali\")\n",
    "print(\"After remove (Ali):\", students)\n",
    "\n",
    "students.discard(\"Sara\")\n",
    "print(\"After discard (Sara):\", students)\n",
    "\n",
    "students.pop()\n",
    "print(\"After pop (random element removed):\", students)\n",
    "\n",
    "copy_students = students.copy()\n",
    "print(\"Copied Set:\", copy_students)\n",
    "\n",
    "students.clear()\n",
    "print(\"After clear:\", students)\n",
    "\n",
    "# New sets for set operations\n",
    "set1 = {\"Ali\", \"Sara\", \"Hassan\"}\n",
    "set2 = {\"Sara\", \"Zara\", \"Bilal\"}\n",
    "\n",
    "print(\"Union:\", set1.union(set2))\n",
    "print(\"Intersection:\", set1.intersection(set2))\n",
    "print(\"Difference:\", set1.difference(set2))\n",
    "print(\"Symmetric Difference:\", set1.symmetric_difference(set2))\n",
    "\n",
    "print(\"Is set1 subset of set2?\", set1.issubset(set2))\n",
    "print(\"Is set1 superset of set2?\", set1.issuperset(set2))\n",
    "print(\"Are set1 and set2 disjoint?\", set1.isdisjoint(set2))\n"
   ]
  },
  {
   "cell_type": "markdown",
   "id": "ec741185-453b-48c0-8f5e-debcfc6a2fb7",
   "metadata": {},
   "source": [
    "### Question 4"
   ]
  },
  {
   "cell_type": "code",
   "execution_count": 4,
   "id": "fbdb44c2-5e20-4902-8691-2c2fa7fc979d",
   "metadata": {},
   "outputs": [
    {
     "name": "stdout",
     "output_type": "stream",
     "text": [
      "Shallow Copy Example:\n",
      "Original List: [[99, 2], [3, 4]]\n",
      "Shallow Copy: [[99, 2], [3, 4]]\n",
      "\n",
      "Deep Copy Example:\n",
      "Original List: [[1, 2], [3, 4]]\n",
      "Deep Copy: [[88, 2], [3, 4]]\n"
     ]
    }
   ],
   "source": [
    "# Shallow Copy (no import copy)\n",
    "list1 = [[1, 2], [3, 4]]\n",
    "shallow_copy = list1[:]   # or shallow_copy = list1.copy()\n",
    "\n",
    "shallow_copy[0][0] = 99\n",
    "\n",
    "print(\"Shallow Copy Example:\")\n",
    "print(\"Original List:\", list1)\n",
    "print(\"Shallow Copy:\", shallow_copy)\n",
    "\n",
    "\n",
    "# Deep Copy (with import copy)\n",
    "import copy\n",
    "\n",
    "list2 = [[1, 2], [3, 4]]\n",
    "deep_copy = copy.deepcopy(list2)\n",
    "\n",
    "deep_copy[0][0] = 88\n",
    "\n",
    "print(\"\\nDeep Copy Example:\")\n",
    "print(\"Original List:\", list2)\n",
    "print(\"Deep Copy:\", deep_copy)\n"
   ]
  },
  {
   "cell_type": "markdown",
   "id": "f5c0e96b-83ee-4ee2-b9d9-48871164a65a",
   "metadata": {},
   "source": [
    "### Question 5"
   ]
  },
  {
   "cell_type": "code",
   "execution_count": null,
   "id": "3f29dbf8-f9df-4427-9f94-a8eb2048282b",
   "metadata": {},
   "outputs": [],
   "source": [
    "# ---------- Pass by Value Example (Immutable type) ----------\n",
    "a = 10\n",
    "b = a        # b ko a ka copy mila\n",
    "\n",
    "b = b + 5    # b change hua, lekin a same hai\n",
    "\n",
    "print(\"Pass by Value (Immutable types)\")\n",
    "print(\"a =\", a)   # 10\n",
    "print(\"b =\", b)   # 15\n",
    "\n",
    "\n",
    "# ---------- Pass by Address Example (Mutable type) ----------\n",
    "list1 = [1, 2, 3]\n",
    "list2 = list1   # list2 ko list1 ka address mila\n",
    "\n",
    "list2.append(4) # list2 change hua, list1 bhi change hogi\n",
    "\n",
    "print(\"\\nPass by Address (Mutable types)\")\n",
    "print(\"list1 =\", list1)   # [1, 2, 3, 4]\n",
    "print(\"list2 =\", list2)   # [1, 2, 3, 4]\n"
   ]
  }
 ],
 "metadata": {
  "kernelspec": {
   "display_name": "Python 3 (ipykernel)",
   "language": "python",
   "name": "python3"
  },
  "language_info": {
   "codemirror_mode": {
    "name": "ipython",
    "version": 3
   },
   "file_extension": ".py",
   "mimetype": "text/x-python",
   "name": "python",
   "nbconvert_exporter": "python",
   "pygments_lexer": "ipython3",
   "version": "3.13.5"
  }
 },
 "nbformat": 4,
 "nbformat_minor": 5
}
